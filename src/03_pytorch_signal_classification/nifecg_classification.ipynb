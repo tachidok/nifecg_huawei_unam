{
 "cells": [
  {
   "cell_type": "markdown",
   "id": "6c3a1f7e",
   "metadata": {},
   "source": [
    "# Import packages"
   ]
  },
  {
   "cell_type": "code",
   "execution_count": 5,
   "id": "5e4c96d2",
   "metadata": {},
   "outputs": [],
   "source": [
    "# Pytorch packages\n",
    "import torch\n",
    "import torch.nn as nn\n",
    "import torch.optim as optim\n",
    "from torch.utils.data import DataLoader, Dataset\n",
    "from torchvision.transforms import transforms\n",
    "from torchinfo import summary\n",
    "\n",
    "import os\n",
    "import pandas as pd\n",
    "\n",
    "import glob\n",
    "import csv\n",
    "import numpy as np\n",
    "from sklearn.preprocessing import LabelEncoder, OneHotEncoder\n",
    "\n",
    "# Plotting\n",
    "import matplotlib.pyplot as plt"
   ]
  },
  {
   "cell_type": "markdown",
   "id": "42c78433",
   "metadata": {},
   "source": [
    "# Read the data"
   ]
  },
  {
   "cell_type": "markdown",
   "id": "785a0ba5",
   "metadata": {},
   "source": [
    "## Create the custom data loader"
   ]
  },
  {
   "cell_type": "code",
   "execution_count": 7,
   "id": "ecc42706",
   "metadata": {},
   "outputs": [],
   "source": [
    "# Custom dataset class\n",
    "class FileDataset(Dataset):\n",
    "    def __init__(self, root_dir, transform=None):\n",
    "        self.root_dir = root_dir\n",
    "        self.transform = transform\n",
    "        self.file_list = []\n",
    "        self.labels = []\n",
    "        \n",
    "        # The number of classes\n",
    "        self.n_classes = 0\n",
    "\n",
    "        # Extract file paths and labels\n",
    "        self._extract_file_paths()\n",
    "        \n",
    "         # Perform label encoding as one-hot encoding\n",
    "        self._encode_labels()\n",
    "\n",
    "    def __len__(self):\n",
    "        return len(self.file_list)\n",
    "\n",
    "    def __getitem__(self, idx):\n",
    "        file_path = self.file_list[idx]\n",
    "        label = self.labels[idx]\n",
    "\n",
    "        # Read the file\n",
    "        data = self._read_file(file_path)\n",
    "\n",
    "        # Apply transformation if provided\n",
    "        if self.transform:\n",
    "            data = self.transform(data)\n",
    "\n",
    "        return data, label\n",
    "\n",
    "    def _extract_file_paths(self):\n",
    "        label_dirs = os.listdir(self.root_dir)\n",
    "\n",
    "        for label in label_dirs:\n",
    "            label_dir = os.path.join(self.root_dir, label)\n",
    "            if os.path.isdir(label_dir):\n",
    "                files = glob.glob(os.path.join(label_dir, '*.csv'))\n",
    "                self.file_list.extend(files)\n",
    "                self.labels.extend([label] * len(files))\n",
    "\n",
    "    def _read_file(self, file_path):\n",
    "        \n",
    "        signal_data = np.loadtxt(file_path, dtype=np.float32, delimiter=\",\")\n",
    "        # Transform to torch vector and reshape to column vector\n",
    "        return torch.from_numpy(signal_data)\n",
    "        \n",
    "        # Implement your own file reading logic here\n",
    "        # For example, if you're working with CSV files, you can use pandas\n",
    "        # dataframe = pd.read_csv(file_path)\n",
    "        # return dataframe.values\n",
    "\n",
    "        # In this example, we assume a simple text file and read its content\n",
    "        #with open(file_path, 'r') as file:\n",
    "        #    content = file.read()\n",
    "\n",
    "        #return content\n",
    "        \n",
    "    def _encode_labels(self):\n",
    "        \n",
    "        label_encoder = LabelEncoder()\n",
    "        integer_encoded = label_encoder.fit_transform(self.labels)\n",
    "        \n",
    "        # Print the original classes names\n",
    "        #print(label_encoder.classes_)\n",
    "        \n",
    "        # Reshape to column vector\n",
    "        integer_encoded = integer_encoded.reshape(-1, 1)\n",
    "\n",
    "        # JCPS \"sparse\" deprecated in version 1.2, use \"sparse_output\" from version 1.4\n",
    "        #onehot_encoder = OneHotEncoder(sparse=False)\n",
    "        onehot_encoder = OneHotEncoder(sparse_output=False)\n",
    "        \n",
    "        onehot_encoded = onehot_encoder.fit_transform(integer_encoded)\n",
    "        \n",
    "        self.n_classes = onehot_encoded.shape[1]\n",
    "        \n",
    "        self.labels = torch.tensor(onehot_encoded, dtype=torch.float32)\n",
    "        #self.labels = torch.tensor(onehot_encoded, dtype=torch.long)"
   ]
  },
  {
   "cell_type": "markdown",
   "id": "ef3e7bf6",
   "metadata": {},
   "source": [
    "## Define transformations for the raw data"
   ]
  },
  {
   "cell_type": "code",
   "execution_count": 8,
   "id": "5b8881bf",
   "metadata": {},
   "outputs": [],
   "source": [
    "# This reshape the raw data to a row vector\n",
    "\n",
    "class ToRowVector(object):\n",
    "    \"\"\"Transforms the input signal to a row vector\"\"\"\n",
    "    \n",
    "    def __call__(self, sample):\n",
    "        #reshaped_sample = sample.view(1, -1)\n",
    "        #print(sample.shape[0])\n",
    "        #print(sample.shape[1])\n",
    "        \n",
    "        # Slide the data, use only the first row\n",
    "        preshaped = sample[0,:]\n",
    "                        \n",
    "        #reshaped_sample = sample.view(sample.shape[0]*sample.shape[1])\n",
    "        reshaped_sample = preshaped.view(preshaped.shape[0])\n",
    "        \n",
    "        #return sample\n",
    "        return reshaped_sample"
   ]
  },
  {
   "cell_type": "markdown",
   "id": "07afefbc",
   "metadata": {},
   "source": [
    "## Instantiate the data loader"
   ]
  },
  {
   "cell_type": "code",
   "execution_count": 23,
   "id": "af7afe4c",
   "metadata": {},
   "outputs": [],
   "source": [
    "# The folder with the dataset\n",
    "folder_name = \"../02_python_signal_folder_sorting/sorted_signals_by_mhr\"\n",
    "batch_size = 10\n",
    "\n",
    "# Create training and validation datasets\n",
    "train_dataset = FileDataset(folder_name, transform=transforms.Compose([ToRowVector()]))\n",
    "#train_dataset = FileDataset(folder_name)\n",
    "train_loader = DataLoader(train_dataset, batch_size=batch_size, shuffle=True)\n",
    "test_loader = DataLoader(train_dataset, batch_size=batch_size, shuffle=False)"
   ]
  },
  {
   "cell_type": "markdown",
   "id": "2804d93c",
   "metadata": {},
   "source": [
    "# Define the Neural Network"
   ]
  },
  {
   "cell_type": "code",
   "execution_count": 10,
   "id": "4131b3a0",
   "metadata": {},
   "outputs": [],
   "source": [
    "# Define the neural network architecture\n",
    "class BaseClassifier(nn.Module):\n",
    "    def __init__(self, in_dim, out_dim):\n",
    "        super(BaseClassifier, self).__init__()\n",
    "           \n",
    "        # Define your layers here   \n",
    "        \n",
    "        #self.linear1 = nn.Linear(in_dim, 1024, bias=True)\n",
    "        #self.linear2 = nn.Linear(1024, 256)\n",
    "        #self.relu = nn.ReLU()\n",
    "        #self.linear3 = nn.Linear(256, out_dim)\n",
    "     \n",
    "        self.linear1 = nn.Linear(in_dim, 128, bias=True)\n",
    "        self.linear2 = nn.Linear(128, 32)\n",
    "        self.relu = nn.ReLU()\n",
    "        self.linear3 = nn.Linear(32, out_dim)\n",
    "\n",
    "    def forward(self, x):\n",
    "        \n",
    "        # Define the forward pass of your networkloss.item())\n",
    "        x = self.linear1(x)\n",
    "        x = self.relu(x)\n",
    "        x = self.linear2(x)\n",
    "        x = self.relu(x)\n",
    "        x = self.linear3(x)\n",
    "                \n",
    "        return x"
   ]
  },
  {
   "cell_type": "markdown",
   "id": "a3e23f61",
   "metadata": {},
   "source": [
    "# Instantiate the model, optimiser and hyperparameter(s)"
   ]
  },
  {
   "cell_type": "markdown",
   "id": "3aaa4936",
   "metadata": {},
   "source": [
    "## Set hyperparameters"
   ]
  },
  {
   "cell_type": "code",
   "execution_count": 15,
   "id": "a5381711",
   "metadata": {},
   "outputs": [
    {
     "name": "stdout",
     "output_type": "stream",
     "text": [
      "torch.Size([128, 60000])\n",
      "torch.Size([128])\n",
      "torch.Size([32, 128])\n",
      "torch.Size([32])\n",
      "torch.Size([4, 32])\n",
      "torch.Size([4])\n"
     ]
    },
    {
     "data": {
      "text/plain": [
       "==========================================================================================\n",
       "Layer (type:depth-idx)                   Output Shape              Param #\n",
       "==========================================================================================\n",
       "BaseClassifier                           [10, 4]                   --\n",
       "├─Linear: 1-1                            [10, 128]                 7,680,128\n",
       "├─ReLU: 1-2                              [10, 128]                 --\n",
       "├─Linear: 1-3                            [10, 32]                  4,128\n",
       "├─ReLU: 1-4                              [10, 32]                  --\n",
       "├─Linear: 1-5                            [10, 4]                   132\n",
       "==========================================================================================\n",
       "Total params: 7,684,388\n",
       "Trainable params: 7,684,388\n",
       "Non-trainable params: 0\n",
       "Total mult-adds (Units.MEGABYTES): 76.84\n",
       "==========================================================================================\n",
       "Input size (MB): 2.40\n",
       "Forward/backward pass size (MB): 0.01\n",
       "Params size (MB): 30.74\n",
       "Estimated Total Size (MB): 33.15\n",
       "=========================================================================================="
      ]
     },
     "execution_count": 15,
     "metadata": {},
     "output_type": "execute_result"
    }
   ],
   "source": [
    "#n_input_features = 2040000\n",
    "n_input_features = 60000 # input dimension\n",
    "n_output_classes = 4 # output dimension\n",
    "\n",
    "# Define the loss function\n",
    "criterion = nn.CrossEntropyLoss()\n",
    "\n",
    "# Define the number of epochs\n",
    "n_epochs = 5\n",
    "\n",
    "# Create an instance of the neural network\n",
    "net = BaseClassifier(n_input_features, n_output_classes)\n",
    "    \n",
    "# Define the optimiser (with its corresponding learning rate)\n",
    "learning_rate = 1e-4\n",
    "opt = optim.Adam(net.parameters(), lr=learning_rate)\n",
    "\n",
    "# Summary of the model\n",
    "for p in net.parameters():\n",
    "    print(p.shape)\n",
    "\n",
    "# Summary of the model\n",
    "#summary(net, input_size = (batch_size, 2040000, 4))\n",
    "summary(net, input_size = (batch_size, n_input_features))\n",
    "#summary(net)"
   ]
  },
  {
   "cell_type": "markdown",
   "id": "50e029e4",
   "metadata": {},
   "source": [
    "# Train the model"
   ]
  },
  {
   "cell_type": "code",
   "execution_count": 16,
   "id": "f82e4c3f",
   "metadata": {},
   "outputs": [
    {
     "name": "stdout",
     "output_type": "stream",
     "text": [
      "Epoch [1/5], Batch Loss: 41.33878326\n",
      "Epoch [1/5], Batch Loss: 35.74802017\n",
      "Epoch [1/5], Batch Loss: 29.76329994\n",
      "Epoch [1/5], Batch Loss: 47.91259003\n",
      "Epoch [1/5], Batch Loss: 40.65163422\n",
      "Epoch [1/5], Batch Loss: 13.38053608\n",
      "Epoch [1/5], Batch Loss: 44.13721848\n",
      "Epoch [1/5], Batch Loss: 55.05281448\n",
      "Epoch [1/5], Batch Loss: 13.97180176\n",
      "Epoch [1/5], Batch Loss: 25.49851608\n",
      "Epoch: 1 training loss: 34.74552145\n",
      "Epoch [2/5], Batch Loss: 0.00000005\n",
      "Epoch [2/5], Batch Loss: 34.51071167\n",
      "Epoch [2/5], Batch Loss: 3.82291460\n",
      "Epoch [2/5], Batch Loss: 17.54265594\n",
      "Epoch [2/5], Batch Loss: 21.32408524\n",
      "Epoch [2/5], Batch Loss: 8.00627708\n",
      "Epoch [2/5], Batch Loss: 1.50814724\n",
      "Epoch [2/5], Batch Loss: 4.97016811\n",
      "Epoch [2/5], Batch Loss: 49.72876740\n",
      "Epoch [2/5], Batch Loss: 4.70613670\n",
      "Epoch: 2 training loss: 14.61198640\n",
      "Epoch [3/5], Batch Loss: 0.00038965\n",
      "Epoch [3/5], Batch Loss: -0.00000000\n",
      "Epoch [3/5], Batch Loss: 0.72144854\n",
      "Epoch [3/5], Batch Loss: 0.00000005\n",
      "Epoch [3/5], Batch Loss: -0.00000000\n",
      "Epoch [3/5], Batch Loss: 0.00000132\n",
      "Epoch [3/5], Batch Loss: 6.44145060\n",
      "Epoch [3/5], Batch Loss: -0.00000000\n",
      "Epoch [3/5], Batch Loss: 8.87501049\n",
      "Epoch [3/5], Batch Loss: 7.61472034\n",
      "Epoch: 3 training loss: 2.36530210\n",
      "Epoch [4/5], Batch Loss: -0.00000000\n",
      "Epoch [4/5], Batch Loss: -0.00000000\n",
      "Epoch [4/5], Batch Loss: -0.00000000\n",
      "Epoch [4/5], Batch Loss: -0.00000000\n",
      "Epoch [4/5], Batch Loss: -0.00000000\n",
      "Epoch [4/5], Batch Loss: -0.00000000\n",
      "Epoch [4/5], Batch Loss: 1.02486384\n",
      "Epoch [4/5], Batch Loss: 0.00000235\n",
      "Epoch [4/5], Batch Loss: -0.00000000\n",
      "Epoch [4/5], Batch Loss: -0.00000000\n",
      "Epoch: 4 training loss: 0.10248662\n",
      "Epoch [5/5], Batch Loss: -0.00000000\n",
      "Epoch [5/5], Batch Loss: -0.00000000\n",
      "Epoch [5/5], Batch Loss: -0.00000000\n",
      "Epoch [5/5], Batch Loss: -0.00000000\n",
      "Epoch [5/5], Batch Loss: -0.00000000\n",
      "Epoch [5/5], Batch Loss: -0.00000000\n",
      "Epoch [5/5], Batch Loss: -0.00000000\n",
      "Epoch [5/5], Batch Loss: 0.00000145\n",
      "Epoch [5/5], Batch Loss: -0.00000000\n",
      "Epoch [5/5], Batch Loss: 0.00000219\n",
      "Epoch: 5 training loss: 0.00000036\n"
     ]
    },
    {
     "data": {
      "image/png": "[encoded data removed]",
      "text/plain": [
       "<Figure size 640x480 with 1 Axes>"
      ]
     },
     "metadata": {},
     "output_type": "display_data"
    }
   ],
   "source": [
    "# Define the training method\n",
    "def train(model=net,\n",
    "          optimizer=opt,\n",
    "          n_epochs=n_epochs,\n",
    "          loss_fn=criterion,\n",
    "          lr=learning_rate):\n",
    "    \n",
    "    # Indicate the Pytorch backend we are on training mode\n",
    "    model.train()\n",
    "    loss_lt = []\n",
    "    \n",
    "    # Training loop\n",
    "    for epoch in range(n_epochs):\n",
    "        running_loss = 0.0\n",
    "        for batch_data, batch_labels in train_loader:\n",
    "        \n",
    "            # Forward pass\n",
    "            outputs = model(batch_data)\n",
    "\n",
    "            #print(\"Outputs\\n\")\n",
    "            #print(outputs)\n",
    "        \n",
    "            #print(\"Batch labels\\n\")\n",
    "            #print(batch_labels)\n",
    "        \n",
    "            # Compute the loss\n",
    "            loss = loss_fn(outputs, batch_labels)\n",
    "\n",
    "            # Backpropagation and optimization\n",
    "            loss.backward()\n",
    "        \n",
    "            optimizer.zero_grad()\n",
    "            optimizer.step()\n",
    "                    \n",
    "            # Keep track of sum of loss of each batch\n",
    "            running_loss+=loss.item()\n",
    "                \n",
    "            # Print the loss for monitoring\n",
    "            print('Epoch [{}/{}], Batch Loss: {}'.format(epoch+1, n_epochs, loss.item()))\n",
    "        \n",
    "        # Add the cumulative loss to a list\n",
    "        loss_lt.append(running_loss/len(train_loader))\n",
    "        \n",
    "        # Print the total loss of the epoch\n",
    "        print('Epoch: {} training loss: {}'.format(epoch+1, running_loss/len(train_loader)))\n",
    "        \n",
    "    plt.plot([i for i in range(1, n_epochs+1)], loss_lt, label=\"Train\")\n",
    "    plt.xlabel(\"Epoch\")\n",
    "    plt.ylabel(\"Cross-entropy\")\n",
    "    plt.title(\"Training loss: optimiser {}, lr {:.6f}\".format(\"Adam\", lr))\n",
    "    plt.legend()\n",
    "    plt.show()\n",
    "\n",
    "# Save the trained model\n",
    "#torch.save(net.state_dict(), \"./trained_model/model.pt')\n",
    "\n",
    "# Call the training method\n",
    "train(net, opt, n_epochs, criterion)"
   ]
  },
  {
   "cell_type": "markdown",
   "id": "30015c65",
   "metadata": {},
   "source": [
    "# Test the model"
   ]
  },
  {
   "cell_type": "code",
   "execution_count": 46,
   "id": "2673a35f",
   "metadata": {},
   "outputs": [
    {
     "name": "stdout",
     "output_type": "stream",
     "text": [
      "0.0\n",
      "0.0\n",
      "0.0\n",
      "0.0\n",
      "0.0\n",
      "0.0\n",
      "0.0\n",
      "0.0\n",
      "0.0\n",
      "0.0\n",
      "Test loss: 4.7682578951935286e-08, test accuracy: 0.0\n"
     ]
    }
   ],
   "source": [
    "# Define a helper function to generate a one-hot encoding at the position of the maximum value\n",
    "def generate_max_indices_tensor(input_tensor):\n",
    "    # Compute the maximum along each row\n",
    "    max_values, max_indices = torch.max(input_tensor, dim=1)\n",
    "    \n",
    "    # Create a tensor of zeros with the same shape as the input tensor\n",
    "    output_tensor = torch.zeros_like(input_tensor)\n",
    "    \n",
    "    # Set ones at the indices of the maximum values\n",
    "    output_tensor.scatter_(1, max_indices.unsqueeze(1), 1)\n",
    "    \n",
    "    return output_tensor\n",
    "\n",
    "# Define a helper function that returns a one tensor if the input tensors are equal\n",
    "def compare_tensors(tensor1, tensor2):\n",
    "    # Check if the tensors have the same shape\n",
    "    if tensor1.shape != tensor2.shape:\n",
    "        return torch.tensor([0])\n",
    "    \n",
    "    # Compare the elements of the tensors\n",
    "    equal_elements = torch.eq(tensor1, tensor2)\n",
    "    \n",
    "    # Check if all elements are equal\n",
    "    if torch.all(equal_elements):\n",
    "        return torch.tensor([1])\n",
    "    else:\n",
    "        return torch.tensor([0])\n",
    "\n",
    "# Define the testing method\n",
    "def test(classifier=net,\n",
    "        loss_fn=criterion):\n",
    "    \n",
    "    # Indicate the Pytorch backend we are on testing mode\n",
    "    classifier.eval()\n",
    "    accuracy = 0.0\n",
    "    computed_loss = 0.0\n",
    "    \n",
    "    with torch.no_grad():\n",
    "        for batch_data, batch_labels in test_loader:\n",
    "            \n",
    "            # Forward pass\n",
    "            outputs = net(batch_data)\n",
    "            \n",
    "            #print(\"These are the outputs\")\n",
    "            #print(outputs)\n",
    "            \n",
    "            #print(\"These are the batch labels\")\n",
    "            #print(batch_labels)\n",
    "            \n",
    "            # Compute the loss\n",
    "            loss = loss_fn(outputs, batch_labels)\n",
    "            \n",
    "            # Compute the one-hot enconding version\n",
    "            one_hot_output = generate_max_indices_tensor(outputs)\n",
    "            \n",
    "            #print(\"These are the one-hot outputs\")\n",
    "            #print(one_hot_output)\n",
    "            \n",
    "            # Compute accuracy\n",
    "            #accuracy+=torch.sum(compare_tensors(one_hot_output,batch_labels))\n",
    "            print(accuracy)\n",
    "            \n",
    "        print(\"Test loss: {}, test accuracy: {}\".format(\n",
    "            loss.item()/(len(test_loader)*batch_size),\n",
    "            accuracy*100.0/(len(test_loader)*batch_size)))\n",
    "\n",
    "# Call the test method\n",
    "test(net, criterion)"
   ]
  },
  {
   "cell_type": "markdown",
   "id": "e5fae8d6",
   "metadata": {},
   "source": [
    "# Code testing"
   ]
  },
  {
   "cell_type": "code",
   "execution_count": null,
   "id": "3c98d1f9",
   "metadata": {},
   "outputs": [],
   "source": [
    "for batch_data, batch_labels in train_loader:\n",
    "    print(batch_data.shape)\n",
    "    print(batch_labels)\n",
    "    print(batch_labels.shape)"
   ]
  },
  {
   "cell_type": "code",
   "execution_count": null,
   "id": "ccce815c",
   "metadata": {},
   "outputs": [],
   "source": [
    "signal_data = np.loadtxt(\"../02_python_signal_folder_sorting/sorted_signals_by_mhr/70_74/nifecg.0003.fs_1000_mhr_72_fhr_132.csv\", dtype=np.float32, delimiter=\",\")\n",
    "signal_data_torch = torch.from_numpy(signal_data)\n",
    "signal_data_torch"
   ]
  },
  {
   "cell_type": "code",
   "execution_count": null,
   "id": "5f1ff5ad",
   "metadata": {},
   "outputs": [],
   "source": [
    "## One-hot enconding\n",
    "encoder = OneHotEncoder"
   ]
  },
  {
   "cell_type": "code",
   "execution_count": 41,
   "id": "3ebf34c8",
   "metadata": {},
   "outputs": [
    {
     "name": "stdout",
     "output_type": "stream",
     "text": [
      "tensor([[0.6053, 0.8904, 0.6319, 0.9525],\n",
      "        [0.0125, 0.2390, 0.1449, 0.3404],\n",
      "        [0.8410, 0.9001, 0.1907, 0.5939]])\n",
      "tensor([3, 3, 1])\n",
      "tensor([3, 3, 1])\n"
     ]
    }
   ],
   "source": [
    "x = torch.rand(3,4)\n",
    "print(x)\n",
    "idx, x_max = x.max(dim=1)\n",
    "print(x_max)\n",
    "x_arg_max = torch.argmax(x, 1)\n",
    "print(x_arg_max)"
   ]
  },
  {
   "cell_type": "code",
   "execution_count": null,
   "id": "259ed8f0",
   "metadata": {},
   "outputs": [],
   "source": []
  }
 ],
 "metadata": {
  "kernelspec": {
   "display_name": "Python 3 (ipykernel)",
   "language": "python",
   "name": "python3"
  },
  "language_info": {
   "codemirror_mode": {
    "name": "ipython",
    "version": 3
   },
   "file_extension": ".py",
   "mimetype": "text/x-python",
   "name": "python",
   "nbconvert_exporter": "python",
   "pygments_lexer": "ipython3",
   "version": "3.11.3"
  }
 },
 "nbformat": 4,
 "nbformat_minor": 5
}
